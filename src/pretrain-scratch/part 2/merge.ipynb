{
 "cells": [
  {
   "cell_type": "code",
   "execution_count": 1,
   "metadata": {},
   "outputs": [
    {
     "name": "stderr",
     "output_type": "stream",
     "text": [
      "/fhome/amlai08/amlenv/lib/python3.8/site-packages/tqdm/auto.py:21: TqdmWarning: IProgress not found. Please update jupyter and ipywidgets. See https://ipywidgets.readthedocs.io/en/stable/user_install.html\n",
      "  from .autonotebook import tqdm as notebook_tqdm\n"
     ]
    },
    {
     "name": "stdout",
     "output_type": "stream",
     "text": [
      "Combined Dataset loaded: Dataset({\n",
      "    features: ['audio'],\n",
      "    num_rows: 32000\n",
      "})\n"
     ]
    }
   ],
   "source": [
    "import torch\n",
    "from dataclasses import dataclass\n",
    "from typing import Any, Dict, List, Union\n",
    "import wandb\n",
    "from datasets import load_from_disk, DatasetDict\n",
    "from torch.utils.data import DataLoader\n",
    "from transformers import (\n",
    "    Wav2Vec2Config,\n",
    "    Wav2Vec2ForPreTraining,\n",
    "    TrainingArguments,\n",
    "    Trainer,\n",
    ")\n",
    "import torch.nn.functional as F\n",
    "from datasets import load_from_disk, concatenate_datasets\n",
    "import os\n",
    "from datasets import concatenate_datasets\n",
    "\n",
    "\n",
    "chunk_dir = \"/fhome/amlai08/preprocessed_audio_dataset_chunks_ca6\"\n",
    "\n",
    "# List all chunk files in the directory\n",
    "chunk_files = [os.path.join(chunk_dir, f) for f in os.listdir(chunk_dir) if f.startswith(\"chunk_\")]\n",
    "\n",
    "# Load each chunk and combine them\n",
    "datasets = [load_from_disk(chunk_file) for chunk_file in chunk_files]\n",
    "combined_dataset = concatenate_datasets(datasets)\n",
    "\n",
    "# Verify the combined datasetÇ\n",
    "print(f\"Combined Dataset loaded: {combined_dataset}\")"
   ]
  },
  {
   "cell_type": "code",
   "execution_count": 3,
   "metadata": {},
   "outputs": [],
   "source": [
    "model = Wav2Vec2ForPreTraining.from_pretrained(\"/fhome/amlai08/ALEX/KEEP_TRAINING/wav2vec2-pretraining-checkpoints/checkpoint-18380\")\n"
   ]
  },
  {
   "cell_type": "code",
   "execution_count": null,
   "metadata": {},
   "outputs": [],
   "source": []
  }
 ],
 "metadata": {
  "kernelspec": {
   "display_name": "amlenv",
   "language": "python",
   "name": "python3"
  },
  "language_info": {
   "codemirror_mode": {
    "name": "ipython",
    "version": 3
   },
   "file_extension": ".py",
   "mimetype": "text/x-python",
   "name": "python",
   "nbconvert_exporter": "python",
   "pygments_lexer": "ipython3",
   "version": "3.8.10"
  }
 },
 "nbformat": 4,
 "nbformat_minor": 2
}
